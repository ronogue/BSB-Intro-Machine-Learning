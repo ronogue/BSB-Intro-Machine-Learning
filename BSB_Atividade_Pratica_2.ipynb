{
  "nbformat": 4,
  "nbformat_minor": 0,
  "metadata": {
    "colab": {
      "provenance": []
    },
    "kernelspec": {
      "display_name": "Python 3",
      "language": "python",
      "name": "python3"
    },
    "language_info": {
      "codemirror_mode": {
        "name": "ipython",
        "version": 3
      },
      "file_extension": ".py",
      "mimetype": "text/x-python",
      "name": "python",
      "nbconvert_exporter": "python",
      "pygments_lexer": "ipython3",
      "version": "3.8.10"
    }
  },
  "cells": [
    {
      "cell_type": "markdown",
      "metadata": {
        "id": "GCBouAgYen2S"
      },
      "source": [
        "### Atividade Prática 2: agrupamentos (clusterings)\n",
        "\n",
        "#### Brazilian Symposium on Bioinformatics (BSB) 2024\n",
        "\n",
        "Copyright (C) 2021 Marcelo S. Reis.\n",
        "\n",
        "<a href=\"mailto:marcelo.reis@butantan.gov.br\">marcelo.reis@butantan.gov.br</a>\n",
        "\n",
        "This program is free software: you can redistribute it and/or modify it under the terms of the GNU General Public License as published by the Free Software Foundation, either version 3 of the License, or (at your option) any later version.\n",
        "\n",
        "This program is distributed in the hope that it will be useful, but WITHOUT ANY WARRANTY; without even the implied warranty of MERCHANTABILITY or FITNESS FOR A PARTICULAR PURPOSE. See the GNU General Public License for more details.\n",
        "\n",
        "You should have received a copy of the GNU General Public License along with this program. If not, see http://www.gnu.org/licenses/.\n",
        "\n",
        "Hoje vamos implementar algoritmos de aprendizagem não-supervisionada para realizar dois agrupamentos, um pelo k-médias (*k-means*) e o outro por aglomeração hierárquica (*hierarchical agglomerative clustering*).\n"
      ]
    },
    {
      "cell_type": "markdown",
      "metadata": {
        "id": "Eoj0IwtEen2X"
      },
      "source": [
        "### Sumário <a class=\"anchor\" id=\"topo\"></a>\n",
        "\n",
        "* [Parte 1: Resolvendo dependências](#parte_01).\n",
        "* [Parte 2: Carregando o conjunto de dados \"iris\"](#parte_02).\n",
        "* [Parte 3: Executando o k-médias em \"iris\"](#parte_03).\n",
        "* [Parte 4: Comparando o resultado do agrupamento de \"iris\" com sua classificação real](#parte_04).\n",
        "* [Parte 5: Utilizando o k-médias como classificador](#parte_05)\n",
        "* [Parte 6: Implementando um agrupamento hierárquico aglomerativo](#parte_06).\n"
      ]
    },
    {
      "cell_type": "markdown",
      "metadata": {
        "id": "HnH8HlRhen2Z"
      },
      "source": [
        "### Parte 1: Resolvendo dependências <a class=\"anchor\" id=\"parte_01\"></a>\n",
        "\n",
        "Aqui carregamos bibliotecas e métodos que serão utilizados ao longo deste caderno.\n",
        "\n",
        "\n"
      ]
    },
    {
      "cell_type": "code",
      "metadata": {
        "id": "MaTT0lUzen2a"
      },
      "source": [
        "# !pip install matplotlib\n",
        "import matplotlib.pyplot as plt\n",
        "%matplotlib inline\n",
        "\n",
        "# !pip install sklearn\n",
        "from sklearn import datasets\n",
        "from sklearn import preprocessing\n",
        "from sklearn import utils\n",
        "\n",
        "from sklearn.cluster import KMeans\n",
        "from sklearn.cluster import AgglomerativeClustering\n"
      ],
      "execution_count": null,
      "outputs": []
    },
    {
      "cell_type": "markdown",
      "metadata": {
        "id": "NZ8RScyfen2f"
      },
      "source": [
        "[Voltar ao sumário.](#topo)\n",
        "\n",
        "### Parte 2: Carregando o conjunto de dados \"iris\"\n",
        "\n",
        "Conjunto de dados clássico, criado por Ronaldo Fischer nos anos 30, que classifica três espécies de flores íris (3 classes) a partir de comprimento e largura de pétalas e sépalas (4 atributos). O conjunto de dados tem 150 pontos, 50 por espécies de íris.\n",
        "\n",
        "<a class=\"anchor\" id=\"parte_02\"></a>"
      ]
    },
    {
      "cell_type": "code",
      "metadata": {
        "id": "8zttqUHIen2f"
      },
      "source": [
        "data = datasets.load_iris()\n",
        "\n",
        "print(data.feature_names)\n",
        "print(data.target_names)\n",
        "\n",
        "X = preprocessing.normalize(data.data)\n",
        "y = data.target\n",
        "\n",
        "X, y = utils.shuffle(X, y, random_state=42)\n"
      ],
      "execution_count": null,
      "outputs": []
    },
    {
      "cell_type": "markdown",
      "metadata": {
        "id": "-xuQ-QrBen2g"
      },
      "source": [
        "[Voltar ao sumário.](#topo)\n",
        "\n",
        "### Parte 3: Executando o k-médias em \"iris\" <a class=\"anchor\" id=\"parte_03\"></a>\n",
        "\n",
        "Agora vamos executar o algoritmo de agrupamento k-médias no conjunto de dados \"iris\", com c = 3 (três classes). O algoritmo k-médias busca criar $k$ clusters (grupos) de forma que seja minimizada a distância entre os pontos $x$ de um dado grupo $j$ e o \"ponto médio\" (centróide) $\\mu_j$ desse mesmo grupo. Essa minimização é expressa pela seguinte equação:\n",
        "\\begin{equation}\n",
        "\\mbox{minimizar } \\sum_{j=1}^k \\sum_{x \\in C_j} \\parallel x -\\mu_j \\parallel^2,\n",
        "\\end{equation}\n",
        "onde $C_j$ é o conjunto dos pontos no grupo $j$. Vamos também plotar os resultados obtidos e comparar eles com os rótulos originais."
      ]
    },
    {
      "cell_type": "code",
      "metadata": {
        "id": "a4moZB3zen2h"
      },
      "source": [
        "y_pred = KMeans(n_clusters=3, random_state=0).fit_predict(X)\n",
        "\n",
        "plt.figure(figsize=(8, 8))\n",
        "\n",
        "plt.scatter(X[:, 0], X[:, 1], c=y_pred)\n",
        "plt.xlabel('sepal length (cm)')\n",
        "plt.xlabel('sepal width (cm)')\n",
        "plt.title('Agrupamento com k-médias')\n"
      ],
      "execution_count": null,
      "outputs": []
    },
    {
      "cell_type": "markdown",
      "metadata": {
        "id": "udpjdNy0en2i"
      },
      "source": [
        "[Voltar ao sumário.](#topo)\n",
        "\n",
        "### Parte 4: Comparando o resultado do agrupamento de \"iris\" com sua classificação real <a class=\"anchor\" id=\"parte_04\"></a>\n",
        "\n",
        "Vamos plotar agora dois dos quatro atributos do conjunto de dados \"iris\" (os mesmos atributos plotados na parte anterior) e assim verificar a classificação original. Observe que o conjunto de dados não é linearmente separável mesmo quando consideramos somente esses dois atributos, o que tem implicações no resultado do k-médias que foi impresso anteriormente."
      ]
    },
    {
      "cell_type": "code",
      "metadata": {
        "id": "zmRfQ19ben2j"
      },
      "source": [
        "plt.figure(figsize=(10, 5))\n",
        "\n",
        "plt.subplot(121)\n",
        "\n",
        "plt.scatter(X[:, 0], X[:, 1], c=y_pred)\n",
        "plt.xlabel('sepal length (cm)')\n",
        "plt.xlabel('sepal width (cm)')\n",
        "plt.title('Agrupamento com k-médias')\n",
        "\n",
        "plt.subplot(122)\n",
        "\n",
        "plt.scatter(X[:, 0], X[:, 1], c=y)\n",
        "plt.xlabel('sepal length (cm)')\n",
        "plt.xlabel('sepal width (cm)')\n",
        "plt.title('classes reais')\n",
        "\n",
        "plt.show()"
      ],
      "execution_count": null,
      "outputs": []
    },
    {
      "cell_type": "markdown",
      "metadata": {
        "id": "wFsp3c5ien2k"
      },
      "source": [
        "[Voltar ao sumário.](#topo)\n",
        "\n",
        "### Parte 5: Utilizando o k-médias como classificador <a class=\"anchor\" id=\"parte_05\"></a>\n",
        "    \n",
        "O experimento anterior sugere que, uma vez \"treinado\" os centróides com um conjunto razoável de dados, é possível utilizá-los para classificar dados não utilizados nesse \"treinamento\". Vamos verificar essa possibilidade rodando o k-médias para 2/3 dos pontos e classificando o 1/3 restante."
      ]
    },
    {
      "cell_type": "code",
      "metadata": {
        "id": "N_7x2ScYen2k"
      },
      "source": [
        "kmeans = KMeans(n_clusters=3, random_state=0).fit(X[0:100])\n",
        "y_pred = kmeans.predict(X[100:])\n",
        "plt.figure(figsize=(8, 8))\n",
        "plt.scatter(X[100:, 0], X[100:, 1], c=y_pred)\n",
        "plt.xlabel('sepal length (cm)')\n",
        "plt.xlabel('sepal width (cm)')\n",
        "plt.title('Agrupamento com k-médias')\n",
        "plt.show()"
      ],
      "execution_count": null,
      "outputs": []
    },
    {
      "cell_type": "markdown",
      "metadata": {
        "id": "fhtGW_M3en2k"
      },
      "source": [
        "[Voltar ao sumário.](#topo)\n",
        "\n",
        "### Parte 6: Implementando um agrupamento hierárquico aglomerativo <a class=\"anchor\" id=\"parte_06\"></a>\n",
        "\n",
        "Esse tipo de agrupamento gera clusters do tipo:\n",
        "    \n",
        "\\begin{equation*}\n",
        "\\{ \\{ x_1, \\{ x_2, x_3 \\} \\}, \\{ \\{ \\{ x_4, x_5 \\}, \\{ x_6, x_7 \\} \\}, x_8 \\} \\}.\n",
        "\\end{equation*}\n",
        "\n",
        "O nosso critério de aglomeração será o seguinte: para cada par de clusters, avaliamos a distância Euclidiana entre seus centróides, e os dois clusters que serão aglomerados na iteração corrente são os que minimizam essa distância."
      ]
    },
    {
      "cell_type": "code",
      "metadata": {
        "id": "pJ18ahQ3en2l"
      },
      "source": [
        "y_pred = AgglomerativeClustering(n_clusters=3, metric='euclidean', linkage='complete').fit_predict(X)\n",
        "\n",
        "plt.figure(figsize=(5, 5))\n",
        "plt.scatter(X[:, 0], X[:, 1], c=y_pred)\n",
        "plt.xlabel('sepal length (cm)')\n",
        "plt.xlabel('sepal width (cm)')\n",
        "plt.title('Agrupamento com AgglomerativeClustering')\n",
        "plt.show()"
      ],
      "execution_count": null,
      "outputs": []
    },
    {
      "cell_type": "markdown",
      "metadata": {
        "id": "vDHLAVUNen2m"
      },
      "source": [
        "[Voltar ao sumário.](#topo)\n",
        "\n"
      ]
    }
  ]
}