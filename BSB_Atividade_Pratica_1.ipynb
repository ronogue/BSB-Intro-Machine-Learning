{
  "nbformat": 4,
  "nbformat_minor": 0,
  "metadata": {
    "colab": {
      "provenance": [],
      "collapsed_sections": [
        "GCBouAgYen2S",
        "-xuQ-QrBen2g",
        "udpjdNy0en2i",
        "wFsp3c5ien2k",
        "fhtGW_M3en2k"
      ]
    },
    "kernelspec": {
      "display_name": "Python 3",
      "language": "python",
      "name": "python3"
    },
    "language_info": {
      "codemirror_mode": {
        "name": "ipython",
        "version": 3
      },
      "file_extension": ".py",
      "mimetype": "text/x-python",
      "name": "python",
      "nbconvert_exporter": "python",
      "pygments_lexer": "ipython3",
      "version": "3.8.10"
    }
  },
  "cells": [
    {
      "cell_type": "markdown",
      "metadata": {
        "id": "GCBouAgYen2S"
      },
      "source": [
        "### Atividade Prática 1: classificação\n",
        "\n",
        "#### Brazilian Symposium on Bioinformatics (BSB) 2024\n",
        "\n",
        "Copyright (C) 2021 Marcelo S. Reis.\n",
        "\n",
        "<a href=\"mailto:marcelo.reis@butantan.gov.br\">marcelo.reis@butantan.gov.br</a>\n",
        "\n",
        "This program is free software: you can redistribute it and/or modify it under the terms of the GNU General Public License as published by the Free Software Foundation, either version 3 of the License, or (at your option) any later version.\n",
        "\n",
        "This program is distributed in the hope that it will be useful, but WITHOUT ANY WARRANTY; without even the implied warranty of MERCHANTABILITY or FITNESS FOR A PARTICULAR PURPOSE. See the GNU General Public License for more details.\n",
        "\n",
        "You should have received a copy of the GNU General Public License along with this program. If not, see http://www.gnu.org/licenses/.\n",
        "\n",
        "Hoje vamos implementar algoritmos de aprendizagem não-supervisionada para realizar dois agrupamentos, um pelo k-médias (*k-means*) e o outro por aglomeração hierárquica (*hierarchical agglomerative clustering*).\n"
      ]
    },
    {
      "cell_type": "markdown",
      "metadata": {
        "id": "Eoj0IwtEen2X"
      },
      "source": [
        "### Sumário <a class=\"anchor\" id=\"topo\"></a>\n",
        "\n",
        "* [Parte 1: Resolvendo dependências](#parte_01).\n",
        "* [Parte 2: Carregando o conjunto de dados \"breast cancer\"](#parte_02).\n",
        "* [Parte 3: Executando regressão linear em duas variáveis de \"breast cancer\"](#parte_03).\n",
        "* [Parte 4: Avaliando o desempenho da regressão linear](#parte_04).\n",
        "* [Parte 5: Classificando \"breast cancer\" com todas as variáveis](#parte_05)"
      ]
    },
    {
      "cell_type": "markdown",
      "metadata": {
        "id": "HnH8HlRhen2Z"
      },
      "source": [
        "### Parte 1: Resolvendo dependências <a class=\"anchor\" id=\"parte_01\"></a>\n",
        "\n",
        "Aqui carregamos bibliotecas e métodos que serão utilizados ao longo deste caderno.\n",
        "\n",
        "\n"
      ]
    },
    {
      "cell_type": "code",
      "metadata": {
        "id": "MaTT0lUzen2a"
      },
      "source": [
        "# !pip install matplotlib\n",
        "import matplotlib.pyplot as plt\n",
        "%matplotlib inline\n",
        "\n",
        "# !pip install numpy\n",
        "import numpy as np\n",
        "\n",
        "# !pip install pandas\n",
        "import pandas as pd\n",
        "\n",
        "# !pip install seaborn\n",
        "import seaborn as sn\n",
        "\n",
        "# !pip install sklearn\n",
        "from sklearn import datasets\n",
        "from sklearn import preprocessing\n",
        "from sklearn import utils\n",
        "\n",
        "from sklearn.linear_model import LinearRegression\n"
      ],
      "execution_count": null,
      "outputs": []
    },
    {
      "cell_type": "markdown",
      "metadata": {
        "id": "NZ8RScyfen2f"
      },
      "source": [
        "[Voltar ao sumário.](#topo)\n",
        "\n",
        "### Parte 2: Carregando o conjunto de dados \"breast cancer\"\n",
        "\n",
        "[Breast Cancer Wisconsin (Diagnostic) Dataset](https://archive.ics.uci.edu/dataset/17/breast+cancer+wisconsin+diagnostic)\n",
        "\n",
        "\n",
        "Conjunto de dados clássico de classificação binária (2 classes), com uma amostra de 569 pontos (212 malignos, 357 benignos) e 30 características.\n",
        "\n",
        "\n",
        "<a class=\"anchor\" id=\"parte_02\"></a>"
      ]
    },
    {
      "cell_type": "code",
      "metadata": {
        "id": "8zttqUHIen2f"
      },
      "source": [
        "data = datasets.load_breast_cancer()\n",
        "\n",
        "print(data.feature_names, end='\\n\\n')\n",
        "print(data.target_names)\n",
        "\n",
        "\n",
        "X = data.data\n",
        "y = data.target\n",
        "\n",
        "y = np.where(y == 0, -1, y)\n",
        "X, y = utils.shuffle(X, y, random_state=42)\n",
        "\n",
        "scaler = preprocessing.StandardScaler()\n",
        "\n",
        "# Vamos utilizar 300 pontos para treinamento e 269 para teste\n",
        "#\n",
        "scaler.fit(X[1:301])\n",
        "X = scaler.transform(X)"
      ],
      "execution_count": null,
      "outputs": []
    },
    {
      "cell_type": "markdown",
      "metadata": {
        "id": "-xuQ-QrBen2g"
      },
      "source": [
        "[Voltar ao sumário.](#topo)\n",
        "\n",
        "### Parte 3: Executando regressão linear em duas variáveis de \"breast cancer\" <a class=\"anchor\" id=\"parte_03\"></a>\n",
        "\n",
        "A equação de um modelo de regressão linear simples é:\n",
        "\n",
        "$$\n",
        "y = \\beta_0 + \\beta_1 x + \\epsilon\n",
        "$$\n",
        "\n",
        "Onde:\n",
        "- \\( y \\): Variável dependente (resposta).\n",
        "- \\( x \\): Variável independente (preditor).\n",
        "- $\\beta_0$: Intercepto (valor de \\( y \\) quando \\( x = 0 \\)).\n",
        "- $\\beta_1$: Inclinação (taxa de mudança em \\( y \\) para uma mudança unitária em \\( x \\)).\n",
        "- $\\epsilon$: Termo de erro (captura o ruído ou a variabilidade não explicada pelo modelo).\n",
        "\n",
        "Para regressão linear múltipla com \\( n \\) preditores, a fórmula é:\n",
        "\n",
        "$$\n",
        "y = \\beta_0 + \\beta_1 x_1 + \\beta_2 x_2 + \\cdots + \\beta_n x_n + \\epsilon\n",
        "$$\n",
        "\n",
        "Ou, em forma de matriz:\n",
        "\n",
        "$$\n",
        "\\mathbf{y} = \\mathbf{X} \\boldsymbol{\\beta} + \\boldsymbol{\\epsilon}\n",
        "$$\n",
        "\n",
        "Onde:\n",
        "- $\\mathbf{y}$: Vetor de variáveis ​​dependentes.\n",
        "- $\\mathbf{X}$: Matriz de variáveis ​​independentes (incluindo uma coluna de uns para o intercepto).\n",
        "- $\\boldsymbol{\\beta}$: Vetor de coeficientes.\n",
        "- $\\boldsymbol{\\epsilon}$: Vetor de erros.\n",
        "\n",
        "Agora vamos executar o algoritmo de regressão linear sobre duas variáveis de nosso dataset. Vamos escolher as duas primeiras variáveis: raio médio e textura média do tumor."
      ]
    },
    {
      "cell_type": "code",
      "metadata": {
        "id": "a4moZB3zen2h"
      },
      "source": [
        "plt.figure(figsize=(8, 8))\n",
        "plt.scatter(X[0:300, 0], X[0:300, 1], c=y[0:300])\n",
        "plt.xlabel('Mean radius')\n",
        "plt.ylabel('Mean texture')\n",
        "plt.title('Conunto de treinamento')\n",
        "plt.show()"
      ],
      "execution_count": null,
      "outputs": []
    },
    {
      "cell_type": "code",
      "metadata": {
        "id": "npPPEE682-s5"
      },
      "source": [
        "model  = LinearRegression().fit(X[0:300, 0:2], y[0:300])\n",
        "y_pred = model.predict(X[:, 0:2])\n",
        "y_pred = np.where(y_pred < 0, -1, 1)\n",
        "\n",
        "\n",
        "plt.figure(figsize=(20, 10))\n",
        "\n",
        "a = -model.coef_[0] / model.coef_[1]\n",
        "b = -model.intercept_ / model.coef_[1]\n",
        "\n",
        "plt.subplot(121)\n",
        "plt.scatter(X[0:300, 0], X[0:300, 1], c=y_pred[0:300])\n",
        "plt.xlabel('Mean radius')\n",
        "plt.ylabel('Mean texture')\n",
        "plt.title('Conjunto de treinamento')\n",
        "\n",
        "plt.plot(np.linspace(-2, 4, 10), a * np.linspace(-2, 4, 10) + b, c='blue')\n",
        "plt.ylim(-3, 6)\n",
        "\n",
        "\n",
        "\n",
        "plt.subplot(122)\n",
        "plt.scatter(X[300:570, 0], X[300:570, 1], c=y_pred[300:])\n",
        "plt.xlabel('Mean radius')\n",
        "plt.ylabel('Mean texture')\n",
        "plt.title('Conjunto de teste')\n",
        "\n",
        "plt.plot(np.linspace(-2, 4, 10), a * np.linspace(-2, 4, 10) + b, c='blue')\n",
        "plt.ylim(-3, 6)\n",
        "\n",
        "\n",
        "plt.show()"
      ],
      "execution_count": null,
      "outputs": []
    },
    {
      "cell_type": "markdown",
      "metadata": {
        "id": "udpjdNy0en2i"
      },
      "source": [
        "[Voltar ao sumário.](#topo)\n",
        "\n",
        "### Parte 4: Avaliando o desempenho da regressão linear <a class=\"anchor\" id=\"parte_04\"></a>\n",
        "\n",
        "Para avaliar o desempenho da nossa regressão linear, utilizaremos matrizes de confusão, que é uma maneira eficiente de visualizar os acertos em termos de tipo de erro: falsos positivos (não é câncer mas nosso classificador diz que é) e falsos negativos (um câncer que o classificador deixa de assinalar como tal)."
      ]
    },
    {
      "cell_type": "code",
      "metadata": {
        "id": "zmRfQ19ben2j"
      },
      "source": [
        "data = { 'y': y[0:300], 'y_pred': y_pred[0:300] }\n",
        "df = pd.DataFrame(data, columns=['y', 'y_pred'])\n",
        "\n",
        "cm = pd.crosstab(df['y'], df['y_pred'], rownames=['classe real'], colnames=['classe prevista'])\n",
        "\n",
        "plt.figure(figsize=(20, 10))\n",
        "sn.heatmap(cm, annot=True)\n",
        "plt.show()"
      ],
      "execution_count": null,
      "outputs": []
    },
    {
      "cell_type": "code",
      "metadata": {
        "id": "SxrXxPoj2-tA"
      },
      "source": [
        "data = { 'y': y[300:], 'y_pred': y_pred[300:] }\n",
        "df = pd.DataFrame(data, columns=['y', 'y_pred'])\n",
        "\n",
        "cm = pd.crosstab(df['y'], df['y_pred'], rownames=['classe real'], colnames=['classe prevista'])\n",
        "\n",
        "plt.figure(figsize=(20, 10))\n",
        "sn.heatmap(cm, annot=True)\n",
        "plt.show()"
      ],
      "execution_count": null,
      "outputs": []
    },
    {
      "cell_type": "markdown",
      "metadata": {
        "id": "wFsp3c5ien2k"
      },
      "source": [
        "[Voltar ao sumário.](#topo)\n",
        "\n",
        "### Parte 5: Classificando \"breast cancer\" com todas as variáveis <a class=\"anchor\" id=\"parte_05\"></a>\n",
        "    \n",
        "Podemos verificar se conseguimos melhorar a classificação acima repetindo a regressão linear utilizando desta vez todas as variáveis."
      ]
    },
    {
      "cell_type": "code",
      "metadata": {
        "id": "N_7x2ScYen2k"
      },
      "source": [
        "model = LinearRegression().fit(X[0:300], y[0:300])\n",
        "\n",
        "y_pred = model.predict(X)\n",
        "y_pred = np.where(y_pred < 0, -1, 1)\n",
        "\n",
        "\n",
        "data = { 'y': y[300:], 'y_pred': y_pred[300:] }\n",
        "df = pd.DataFrame(data, columns=['y', 'y_pred'])\n",
        "\n",
        "cm = pd.crosstab(df['y'], df['y_pred'], rownames=['classe real'], colnames=['classe prevista'])\n",
        "\n",
        "plt.figure(figsize=(20, 10))\n",
        "sn.heatmap(cm, annot=True)\n",
        "plt.show()"
      ],
      "execution_count": null,
      "outputs": []
    },
    {
      "cell_type": "markdown",
      "metadata": {
        "id": "vDHLAVUNen2m"
      },
      "source": [
        "[Voltar ao sumário.](#topo)\n",
        "\n"
      ]
    }
  ]
}